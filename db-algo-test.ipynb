{
 "cells": [
  {
   "cell_type": "markdown",
   "metadata": {},
   "source": [
    "### Imports & Querie Loading"
   ]
  },
  {
   "cell_type": "code",
   "execution_count": null,
   "metadata": {},
   "outputs": [],
   "source": [
    "import sys\n",
    "import os\n",
    "\n",
    "#get the reddit web scraper library\n",
    "folder_path = os.path.abspath(\"..\")\n",
    "\n",
    "if folder_path not in sys.path:\n",
    "    sys.path.append(folder_path)\n",
    "\n",
    "from database import KnowledgeBase\n",
    "import reddit"
   ]
  },
  {
   "cell_type": "code",
   "execution_count": null,
   "metadata": {},
   "outputs": [],
   "source": [
    "import json\n",
    "#get queries text example\n",
    "with open(\"../gradio-tests/queries_0a891.json\") as file:\n",
    "    out_json = json.load(file)"
   ]
  },
  {
   "cell_type": "markdown",
   "metadata": {},
   "source": [
    "### Initial Web Search"
   ]
  },
  {
   "cell_type": "code",
   "execution_count": null,
   "metadata": {},
   "outputs": [],
   "source": [
    "from googlesearch import search\n",
    "from datetime import datetime\n",
    "\n",
    "#build database\n",
    "db = KnowledgeBase()\n",
    "#start session\n",
    "db.start_session()\n",
    "\n",
    "#include here\n",
    "\n",
    "#commit changes made in session\n",
    "db.commit_session()\n",
    "#end session\n",
    "db.end_session()"
   ]
  }
 ],
 "metadata": {
  "kernelspec": {
   "display_name": "LLM-integration",
   "language": "python",
   "name": "python3"
  },
  "language_info": {
   "name": "python",
   "version": "3.12.7"
  }
 },
 "nbformat": 4,
 "nbformat_minor": 2
}
